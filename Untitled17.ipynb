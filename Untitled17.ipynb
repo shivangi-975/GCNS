{
  "nbformat": 4,
  "nbformat_minor": 0,
  "metadata": {
    "colab": {
      "name": "Untitled17.ipynb",
      "provenance": []
    },
    "kernelspec": {
      "name": "python3",
      "display_name": "Python 3"
    }
  },
  "cells": [
    {
      "cell_type": "code",
      "metadata": {
        "colab": {
          "base_uri": "https://localhost:8080/"
        },
        "id": "bhX-h2COoLXQ",
        "outputId": "e078fd87-9cef-48a5-ce75-766ae43da134"
      },
      "source": [
        "#2D tensors\n",
        "import torch\n",
        "one_d=torch.arange(0,9)\n",
        "one_d"
      ],
      "execution_count": 2,
      "outputs": [
        {
          "output_type": "execute_result",
          "data": {
            "text/plain": [
              "tensor([0, 1, 2, 3, 4, 5, 6, 7, 8])"
            ]
          },
          "metadata": {
            "tags": []
          },
          "execution_count": 2
        }
      ]
    },
    {
      "cell_type": "code",
      "metadata": {
        "colab": {
          "base_uri": "https://localhost:8080/"
        },
        "id": "x33mEgAGqwJC",
        "outputId": "2b77dd43-0fc2-43b6-9968-459ceeaa77ee"
      },
      "source": [
        "#2  convert above 1D to 2D \n",
        "two_d=one_d.view(3,3)\n",
        "two_d"
      ],
      "execution_count": 4,
      "outputs": [
        {
          "output_type": "execute_result",
          "data": {
            "text/plain": [
              "tensor([[0, 1, 2],\n",
              "        [3, 4, 5],\n",
              "        [6, 7, 8]])"
            ]
          },
          "metadata": {
            "tags": []
          },
          "execution_count": 4
        }
      ]
    },
    {
      "cell_type": "code",
      "metadata": {
        "colab": {
          "base_uri": "https://localhost:8080/"
        },
        "id": "jxSgmj9PrbNV",
        "outputId": "89b916b4-0c4b-41d0-beb6-e1c04fc930b4"
      },
      "source": [
        "two_d.dim()"
      ],
      "execution_count": 6,
      "outputs": [
        {
          "output_type": "execute_result",
          "data": {
            "text/plain": [
              "2"
            ]
          },
          "metadata": {
            "tags": []
          },
          "execution_count": 6
        }
      ]
    },
    {
      "cell_type": "code",
      "metadata": {
        "colab": {
          "base_uri": "https://localhost:8080/"
        },
        "id": "CuUnOKOqrjhp",
        "outputId": "c9987fc4-f96e-4acf-f927-629ec3964a23"
      },
      "source": [
        "x=torch.arange(18).view(3,3,2)\n",
        "x"
      ],
      "execution_count": 8,
      "outputs": [
        {
          "output_type": "execute_result",
          "data": {
            "text/plain": [
              "tensor([[[ 0,  1],\n",
              "         [ 2,  3],\n",
              "         [ 4,  5]],\n",
              "\n",
              "        [[ 6,  7],\n",
              "         [ 8,  9],\n",
              "         [10, 11]],\n",
              "\n",
              "        [[12, 13],\n",
              "         [14, 15],\n",
              "         [16, 17]]])"
            ]
          },
          "metadata": {
            "tags": []
          },
          "execution_count": 8
        }
      ]
    },
    {
      "cell_type": "code",
      "metadata": {
        "colab": {
          "base_uri": "https://localhost:8080/"
        },
        "id": "UsX-1gRHshrP",
        "outputId": "f3979b37-44f0-4597-8da4-d8577325756b"
      },
      "source": [
        "#Slicing 3D tensors\n",
        "x=torch.arange(18).view(3,2,3)\n",
        "x"
      ],
      "execution_count": 10,
      "outputs": [
        {
          "output_type": "execute_result",
          "data": {
            "text/plain": [
              "tensor([[[ 0,  1,  2],\n",
              "         [ 3,  4,  5]],\n",
              "\n",
              "        [[ 6,  7,  8],\n",
              "         [ 9, 10, 11]],\n",
              "\n",
              "        [[12, 13, 14],\n",
              "         [15, 16, 17]]])"
            ]
          },
          "metadata": {
            "tags": []
          },
          "execution_count": 10
        }
      ]
    },
    {
      "cell_type": "code",
      "metadata": {
        "colab": {
          "base_uri": "https://localhost:8080/"
        },
        "id": "DOnp2zmi02HD",
        "outputId": "3b955bb9-4773-421d-846d-7ba2bd59ef8e"
      },
      "source": [
        "#to get 2nd block\n",
        "x[1,0:2,0:3]\n"
      ],
      "execution_count": 15,
      "outputs": [
        {
          "output_type": "execute_result",
          "data": {
            "text/plain": [
              "tensor([[ 6,  7,  8],\n",
              "        [ 9, 10, 11]])"
            ]
          },
          "metadata": {
            "tags": []
          },
          "execution_count": 15
        }
      ]
    },
    {
      "cell_type": "code",
      "metadata": {
        "colab": {
          "base_uri": "https://localhost:8080/"
        },
        "id": "Xa40bkZ81BGI",
        "outputId": "b32650a9-f5ed-4ce6-99d7-8bfdab16d875"
      },
      "source": [
        "#Matrix multiplication\n",
        "mat_a=torch.tensor([0,3,5,5,5,2]).view(2,3)\n",
        "mat_b=torch.tensor([3,4,3,-2,4,-2]).view(3,2)\n",
        "torch.matmul(mat_a,mat_b)\n",
        "#mat_a@mat_b"
      ],
      "execution_count": 17,
      "outputs": [
        {
          "output_type": "execute_result",
          "data": {
            "text/plain": [
              "tensor([[ 29, -16],\n",
              "        [ 38,   6]])"
            ]
          },
          "metadata": {
            "tags": []
          },
          "execution_count": 17
        }
      ]
    },
    {
      "cell_type": "code",
      "metadata": {
        "colab": {
          "base_uri": "https://localhost:8080/"
        },
        "id": "7_QClBG92aIx",
        "outputId": "a00abb72-d087-4559-f194-e482ac06eb6a"
      },
      "source": [
        "#Gradient with pytorch\n",
        "x=torch.tensor(2.0,requires_grad=True)\n",
        "y=9*x**4+2*x**3+3*x**2+6*x+1\n",
        "y.backward()\n",
        "x.grad"
      ],
      "execution_count": 18,
      "outputs": [
        {
          "output_type": "execute_result",
          "data": {
            "text/plain": [
              "tensor(330.)"
            ]
          },
          "metadata": {
            "tags": []
          },
          "execution_count": 18
        }
      ]
    },
    {
      "cell_type": "code",
      "metadata": {
        "colab": {
          "base_uri": "https://localhost:8080/"
        },
        "id": "L6f3M14D4oVl",
        "outputId": "e35ea4d3-5751-4391-b699-c47f87592262"
      },
      "source": [
        "x=torch.tensor(1.0,requires_grad=True)\n",
        "z=x=torch.tensor(2.0,requires_grad=True)\n",
        "y=x**2+z**3\n",
        "y.backward()\n",
        "x.grad\n",
        "\n"
      ],
      "execution_count": 20,
      "outputs": [
        {
          "output_type": "execute_result",
          "data": {
            "text/plain": [
              "tensor(16.)"
            ]
          },
          "metadata": {
            "tags": []
          },
          "execution_count": 20
        }
      ]
    },
    {
      "cell_type": "code",
      "metadata": {
        "colab": {
          "base_uri": "https://localhost:8080/"
        },
        "id": "PMuz4iuR4_OP",
        "outputId": "f44a2219-37cc-4d76-b2bd-c7df733d78a3"
      },
      "source": [
        "z.grad"
      ],
      "execution_count": 21,
      "outputs": [
        {
          "output_type": "execute_result",
          "data": {
            "text/plain": [
              "tensor(16.)"
            ]
          },
          "metadata": {
            "tags": []
          },
          "execution_count": 21
        }
      ]
    },
    {
      "cell_type": "code",
      "metadata": {
        "id": "8rl6dGR05E_V"
      },
      "source": [
        ""
      ],
      "execution_count": null,
      "outputs": []
    }
  ]
}